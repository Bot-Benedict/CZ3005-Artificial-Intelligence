{
 "cells": [
  {
   "cell_type": "code",
   "execution_count": 1,
   "metadata": {
    "executionInfo": {
     "elapsed": 307,
     "status": "ok",
     "timestamp": 1635702453768,
     "user": {
      "displayName": "Benedict Low",
      "photoUrl": "https://lh3.googleusercontent.com/a-/AOh14Gi4LXyy7T6o567WiVSn_Wn6QTC8Loyb-QMBqSFD0Q=s64",
      "userId": "02625801432686225050"
     },
     "user_tz": -480
    },
    "id": "IFpy4CuxDYbT"
   },
   "outputs": [],
   "source": [
    "import torch\n",
    "import torch.nn as nn\n",
    "import torch.nn.functional as F\n",
    "\n",
    "import pandas as pd\n",
    "import scipy.io\n",
    "import os\n",
    "import numpy as np\n",
    "from sklearn.model_selection import train_test_split"
   ]
  },
  {
   "cell_type": "markdown",
   "metadata": {
    "id": "eMlPnE_LgbAx"
   },
   "source": [
    "# Exploratory Data Analysis"
   ]
  },
  {
   "cell_type": "code",
   "execution_count": 2,
   "metadata": {
    "executionInfo": {
     "elapsed": 2,
     "status": "ok",
     "timestamp": 1635701802993,
     "user": {
      "displayName": "Benedict Low",
      "photoUrl": "https://lh3.googleusercontent.com/a-/AOh14Gi4LXyy7T6o567WiVSn_Wn6QTC8Loyb-QMBqSFD0Q=s64",
      "userId": "02625801432686225050"
     },
     "user_tz": -480
    },
    "id": "aLy-rKaIa6GM"
   },
   "outputs": [],
   "source": [
    "def reset_random_seeds(seed=1):\n",
    "    '''\n",
    "    Sets all necessary seed for reproduceability.\n",
    "    '''\n",
    "    os.environ['PYTHONHASHSEED']=str(seed)\n",
    "    np.random.seed(seed)\n",
    "    \n",
    "reset_random_seeds()"
   ]
  },
  {
   "cell_type": "code",
   "execution_count": 4,
   "metadata": {
    "colab": {
     "base_uri": "https://localhost:8080/",
     "height": 324
    },
    "executionInfo": {
     "elapsed": 362,
     "status": "ok",
     "timestamp": 1635701578308,
     "user": {
      "displayName": "Benedict Low",
      "photoUrl": "https://lh3.googleusercontent.com/a-/AOh14Gi4LXyy7T6o567WiVSn_Wn6QTC8Loyb-QMBqSFD0Q=s64",
      "userId": "02625801432686225050"
     },
     "user_tz": -480
    },
    "id": "TyhJ4rA0XHq9",
    "outputId": "3d224acc-8a13-45ea-d0c7-05e907ac2c30"
   },
   "outputs": [
    {
     "name": "stdout",
     "output_type": "stream",
     "text": [
      "Unique labels: [2. 0. 1.]\n"
     ]
    },
    {
     "data": {
      "text/html": [
       "<div>\n",
       "<style scoped>\n",
       "    .dataframe tbody tr th:only-of-type {\n",
       "        vertical-align: middle;\n",
       "    }\n",
       "\n",
       "    .dataframe tbody tr th {\n",
       "        vertical-align: top;\n",
       "    }\n",
       "\n",
       "    .dataframe thead th {\n",
       "        text-align: right;\n",
       "    }\n",
       "</style>\n",
       "<table border=\"1\" class=\"dataframe\">\n",
       "  <thead>\n",
       "    <tr style=\"text-align: right;\">\n",
       "      <th></th>\n",
       "      <th>SCREW VOLUME, ACTUAL VALUE</th>\n",
       "      <th>MATERIAL CUSHION, ACTUAL VALUE</th>\n",
       "      <th>DOSAGE TIME, ACTUAL VALUE</th>\n",
       "      <th>CYCLE TIME, ACTUAL VALUE</th>\n",
       "      <th>MOULD HEATING CIRCUIT 1, ACTUAL VALUE</th>\n",
       "      <th>MOULD HEATING CIRCUIT 2, ACTUAL VALUE</th>\n",
       "      <th>MOULD HEATING CIRCUIT 3, ACTUAL VALUE</th>\n",
       "      <th>MOULD HEATING CIRCUIT 4, ACTUAL VALUE</th>\n",
       "      <th>MOULD HEATING CIRCUIT 5, ACTUAL VALUE</th>\n",
       "      <th>MOULD HEATING CIRCUIT 6, ACTUAL VALUE</th>\n",
       "      <th>...</th>\n",
       "      <th>DOSAGE TORQUE, ACTUAL VALUE</th>\n",
       "      <th>DOSAGE ROTATIONAL SPEED, ACTUAL VALUE</th>\n",
       "      <th>HYDRAULIC ACCUMULATOR PRESSURE, ACTUAL VALUE</th>\n",
       "      <th>CHARGE PRESSURE OF ACCUMULATOR, MEASURED VALUE</th>\n",
       "      <th>MOULD-ENTRY TIME, ACTUAL VALUE</th>\n",
       "      <th>PART REMOVAL TIME, ACTUAL VALUE</th>\n",
       "      <th>MAXIMUM INJECTION PRESSURE, ACTUAL VALUE</th>\n",
       "      <th>BACK PRESSURE, ACTUAL</th>\n",
       "      <th>CLAMPING FORCE, ACTUAL</th>\n",
       "      <th>LABEL</th>\n",
       "    </tr>\n",
       "  </thead>\n",
       "  <tbody>\n",
       "    <tr>\n",
       "      <th>0</th>\n",
       "      <td>0.390525</td>\n",
       "      <td>0.147798</td>\n",
       "      <td>0.156398</td>\n",
       "      <td>0.00256</td>\n",
       "      <td>0.555556</td>\n",
       "      <td>0.777778</td>\n",
       "      <td>0.555556</td>\n",
       "      <td>0.714286</td>\n",
       "      <td>0.50</td>\n",
       "      <td>0.5</td>\n",
       "      <td>...</td>\n",
       "      <td>0.719864</td>\n",
       "      <td>0.037255</td>\n",
       "      <td>0.329627</td>\n",
       "      <td>1.0</td>\n",
       "      <td>0.000038</td>\n",
       "      <td>0.125</td>\n",
       "      <td>0.078970</td>\n",
       "      <td>0.079625</td>\n",
       "      <td>0.922469</td>\n",
       "      <td>2.0</td>\n",
       "    </tr>\n",
       "    <tr>\n",
       "      <th>1</th>\n",
       "      <td>0.390525</td>\n",
       "      <td>0.147798</td>\n",
       "      <td>0.156398</td>\n",
       "      <td>0.00256</td>\n",
       "      <td>0.444444</td>\n",
       "      <td>0.666667</td>\n",
       "      <td>0.555556</td>\n",
       "      <td>0.714286</td>\n",
       "      <td>0.25</td>\n",
       "      <td>0.5</td>\n",
       "      <td>...</td>\n",
       "      <td>0.719864</td>\n",
       "      <td>0.072549</td>\n",
       "      <td>0.328711</td>\n",
       "      <td>1.0</td>\n",
       "      <td>0.000038</td>\n",
       "      <td>0.125</td>\n",
       "      <td>0.053677</td>\n",
       "      <td>0.053677</td>\n",
       "      <td>0.921482</td>\n",
       "      <td>2.0</td>\n",
       "    </tr>\n",
       "    <tr>\n",
       "      <th>2</th>\n",
       "      <td>0.508494</td>\n",
       "      <td>0.147798</td>\n",
       "      <td>0.156398</td>\n",
       "      <td>0.00256</td>\n",
       "      <td>0.444444</td>\n",
       "      <td>0.666667</td>\n",
       "      <td>0.555556</td>\n",
       "      <td>0.714286</td>\n",
       "      <td>0.25</td>\n",
       "      <td>0.5</td>\n",
       "      <td>...</td>\n",
       "      <td>0.842105</td>\n",
       "      <td>0.994118</td>\n",
       "      <td>0.326533</td>\n",
       "      <td>1.0</td>\n",
       "      <td>0.000038</td>\n",
       "      <td>0.125</td>\n",
       "      <td>0.056112</td>\n",
       "      <td>0.056112</td>\n",
       "      <td>0.920494</td>\n",
       "      <td>2.0</td>\n",
       "    </tr>\n",
       "    <tr>\n",
       "      <th>3</th>\n",
       "      <td>0.577954</td>\n",
       "      <td>0.147798</td>\n",
       "      <td>0.156398</td>\n",
       "      <td>0.00256</td>\n",
       "      <td>0.444444</td>\n",
       "      <td>0.666667</td>\n",
       "      <td>0.444444</td>\n",
       "      <td>0.571429</td>\n",
       "      <td>0.50</td>\n",
       "      <td>0.5</td>\n",
       "      <td>...</td>\n",
       "      <td>0.877759</td>\n",
       "      <td>0.994118</td>\n",
       "      <td>0.326533</td>\n",
       "      <td>1.0</td>\n",
       "      <td>0.000038</td>\n",
       "      <td>0.125</td>\n",
       "      <td>0.056206</td>\n",
       "      <td>0.057424</td>\n",
       "      <td>0.920494</td>\n",
       "      <td>2.0</td>\n",
       "    </tr>\n",
       "    <tr>\n",
       "      <th>4</th>\n",
       "      <td>0.649490</td>\n",
       "      <td>0.147798</td>\n",
       "      <td>0.156398</td>\n",
       "      <td>0.00256</td>\n",
       "      <td>0.555556</td>\n",
       "      <td>0.666667</td>\n",
       "      <td>0.444444</td>\n",
       "      <td>0.571429</td>\n",
       "      <td>0.50</td>\n",
       "      <td>0.5</td>\n",
       "      <td>...</td>\n",
       "      <td>0.874363</td>\n",
       "      <td>0.996078</td>\n",
       "      <td>0.323210</td>\n",
       "      <td>1.0</td>\n",
       "      <td>0.000038</td>\n",
       "      <td>0.125</td>\n",
       "      <td>0.057705</td>\n",
       "      <td>0.056112</td>\n",
       "      <td>0.920000</td>\n",
       "      <td>2.0</td>\n",
       "    </tr>\n",
       "  </tbody>\n",
       "</table>\n",
       "<p>5 rows × 49 columns</p>\n",
       "</div>"
      ],
      "text/plain": [
       "   SCREW VOLUME, ACTUAL VALUE  MATERIAL CUSHION, ACTUAL VALUE  \\\n",
       "0                    0.390525                        0.147798   \n",
       "1                    0.390525                        0.147798   \n",
       "2                    0.508494                        0.147798   \n",
       "3                    0.577954                        0.147798   \n",
       "4                    0.649490                        0.147798   \n",
       "\n",
       "   DOSAGE TIME, ACTUAL VALUE  CYCLE TIME, ACTUAL VALUE  \\\n",
       "0                   0.156398                   0.00256   \n",
       "1                   0.156398                   0.00256   \n",
       "2                   0.156398                   0.00256   \n",
       "3                   0.156398                   0.00256   \n",
       "4                   0.156398                   0.00256   \n",
       "\n",
       "   MOULD HEATING CIRCUIT 1, ACTUAL VALUE  \\\n",
       "0                               0.555556   \n",
       "1                               0.444444   \n",
       "2                               0.444444   \n",
       "3                               0.444444   \n",
       "4                               0.555556   \n",
       "\n",
       "   MOULD HEATING CIRCUIT 2, ACTUAL VALUE  \\\n",
       "0                               0.777778   \n",
       "1                               0.666667   \n",
       "2                               0.666667   \n",
       "3                               0.666667   \n",
       "4                               0.666667   \n",
       "\n",
       "   MOULD HEATING CIRCUIT 3, ACTUAL VALUE  \\\n",
       "0                               0.555556   \n",
       "1                               0.555556   \n",
       "2                               0.555556   \n",
       "3                               0.444444   \n",
       "4                               0.444444   \n",
       "\n",
       "   MOULD HEATING CIRCUIT 4, ACTUAL VALUE  \\\n",
       "0                               0.714286   \n",
       "1                               0.714286   \n",
       "2                               0.714286   \n",
       "3                               0.571429   \n",
       "4                               0.571429   \n",
       "\n",
       "   MOULD HEATING CIRCUIT 5, ACTUAL VALUE  \\\n",
       "0                                   0.50   \n",
       "1                                   0.25   \n",
       "2                                   0.25   \n",
       "3                                   0.50   \n",
       "4                                   0.50   \n",
       "\n",
       "   MOULD HEATING CIRCUIT 6, ACTUAL VALUE  ...  DOSAGE TORQUE, ACTUAL VALUE  \\\n",
       "0                                    0.5  ...                     0.719864   \n",
       "1                                    0.5  ...                     0.719864   \n",
       "2                                    0.5  ...                     0.842105   \n",
       "3                                    0.5  ...                     0.877759   \n",
       "4                                    0.5  ...                     0.874363   \n",
       "\n",
       "   DOSAGE ROTATIONAL SPEED, ACTUAL VALUE  \\\n",
       "0                               0.037255   \n",
       "1                               0.072549   \n",
       "2                               0.994118   \n",
       "3                               0.994118   \n",
       "4                               0.996078   \n",
       "\n",
       "   HYDRAULIC ACCUMULATOR PRESSURE, ACTUAL VALUE  \\\n",
       "0                                      0.329627   \n",
       "1                                      0.328711   \n",
       "2                                      0.326533   \n",
       "3                                      0.326533   \n",
       "4                                      0.323210   \n",
       "\n",
       "   CHARGE PRESSURE OF ACCUMULATOR, MEASURED VALUE  \\\n",
       "0                                             1.0   \n",
       "1                                             1.0   \n",
       "2                                             1.0   \n",
       "3                                             1.0   \n",
       "4                                             1.0   \n",
       "\n",
       "   MOULD-ENTRY TIME, ACTUAL VALUE  PART REMOVAL TIME, ACTUAL VALUE  \\\n",
       "0                        0.000038                            0.125   \n",
       "1                        0.000038                            0.125   \n",
       "2                        0.000038                            0.125   \n",
       "3                        0.000038                            0.125   \n",
       "4                        0.000038                            0.125   \n",
       "\n",
       "   MAXIMUM INJECTION PRESSURE, ACTUAL VALUE  BACK PRESSURE, ACTUAL  \\\n",
       "0                                  0.078970               0.079625   \n",
       "1                                  0.053677               0.053677   \n",
       "2                                  0.056112               0.056112   \n",
       "3                                  0.056206               0.057424   \n",
       "4                                  0.057705               0.056112   \n",
       "\n",
       "   CLAMPING FORCE, ACTUAL  LABEL  \n",
       "0                0.922469    2.0  \n",
       "1                0.921482    2.0  \n",
       "2                0.920494    2.0  \n",
       "3                0.920494    2.0  \n",
       "4                0.920000    2.0  \n",
       "\n",
       "[5 rows x 49 columns]"
      ]
     },
     "execution_count": 4,
     "metadata": {},
     "output_type": "execute_result"
    }
   ],
   "source": [
    "FILE_PATH = '../data/'\n",
    "\n",
    "# Open table of column names text file, get the column names\n",
    "f = open(FILE_PATH+'col_names.txt')\n",
    "cols = f.read()\n",
    "cols = [' '.join(c.split()[1:]) for c in cols.split('\\n')] + ['LABEL']\n",
    "\n",
    "# Read dataset and convert to dataframe\n",
    "data = scipy.io.loadmat(FILE_PATH+'OQC.mat')\n",
    "df = pd.DataFrame(data['data'], columns=cols)\n",
    "\n",
    "print(\"Unique labels:\", df['LABEL'].unique())\n",
    "df.head()"
   ]
  },
  {
   "cell_type": "code",
   "execution_count": 5,
   "metadata": {
    "colab": {
     "base_uri": "https://localhost:8080/"
    },
    "executionInfo": {
     "elapsed": 307,
     "status": "ok",
     "timestamp": 1635702018118,
     "user": {
      "displayName": "Benedict Low",
      "photoUrl": "https://lh3.googleusercontent.com/a-/AOh14Gi4LXyy7T6o567WiVSn_Wn6QTC8Loyb-QMBqSFD0Q=s64",
      "userId": "02625801432686225050"
     },
     "user_tz": -480
    },
    "id": "NbPxRAEgLiPV",
    "outputId": "b1a904d2-a988-4330-f811-e89837f855b8"
   },
   "outputs": [
    {
     "data": {
      "text/plain": [
       "(49,)"
      ]
     },
     "execution_count": 5,
     "metadata": {},
     "output_type": "execute_result"
    }
   ],
   "source": [
    "# Input shape\n",
    "np.array(df.iloc[0]).shape"
   ]
  },
  {
   "cell_type": "code",
   "execution_count": 7,
   "metadata": {
    "colab": {
     "base_uri": "https://localhost:8080/"
    },
    "executionInfo": {
     "elapsed": 330,
     "status": "ok",
     "timestamp": 1635702097127,
     "user": {
      "displayName": "Benedict Low",
      "photoUrl": "https://lh3.googleusercontent.com/a-/AOh14Gi4LXyy7T6o567WiVSn_Wn6QTC8Loyb-QMBqSFD0Q=s64",
      "userId": "02625801432686225050"
     },
     "user_tz": -480
    },
    "id": "5G5_JVn2cTvP",
    "outputId": "c918f065-9f9b-43bb-df36-2653eb8a8138"
   },
   "outputs": [
    {
     "name": "stdout",
     "output_type": "stream",
     "text": [
      "cuda\n"
     ]
    }
   ],
   "source": [
    "device= torch.device(\"cuda\")\n",
    "# device= torch.device(\"cpu\")\n",
    "print(device)"
   ]
  },
  {
   "cell_type": "code",
   "execution_count": 8,
   "metadata": {
    "colab": {
     "base_uri": "https://localhost:8080/"
    },
    "executionInfo": {
     "elapsed": 301,
     "status": "ok",
     "timestamp": 1635703114475,
     "user": {
      "displayName": "Benedict Low",
      "photoUrl": "https://lh3.googleusercontent.com/a-/AOh14Gi4LXyy7T6o567WiVSn_Wn6QTC8Loyb-QMBqSFD0Q=s64",
      "userId": "02625801432686225050"
     },
     "user_tz": -480
    },
    "id": "P8RH-6SpdOZt",
    "outputId": "be443ea5-1e18-4892-fd64-180eb6f2983c"
   },
   "outputs": [
    {
     "name": "stdout",
     "output_type": "stream",
     "text": [
      "1.0    1074\n",
      "0.0    1008\n",
      "2.0     870\n",
      "Name: LABEL, dtype: int64\n"
     ]
    }
   ],
   "source": [
    "# Count number of each classes.\n",
    "print(df['LABEL'].value_counts())\n",
    "# Train test split with stratification sampling\n",
    "train, test = train_test_split(df, test_size=0.3, train_size=0.7, random_state=1, shuffle=True, stratify=df['LABEL'])\n",
    "\n",
    "x_train, y_train = train.iloc[:, :-1], train.iloc[:, -1:]\n",
    "x_test, y_test = test.iloc[:, :-1], test.iloc[:, -1:]\n"
   ]
  },
  {
   "cell_type": "markdown",
   "metadata": {
    "id": "aeddOKZkgeZr"
   },
   "source": [
    "# Functions"
   ]
  },
  {
   "cell_type": "code",
   "execution_count": 9,
   "metadata": {
    "executionInfo": {
     "elapsed": 314,
     "status": "ok",
     "timestamp": 1635703199402,
     "user": {
      "displayName": "Benedict Low",
      "photoUrl": "https://lh3.googleusercontent.com/a-/AOh14Gi4LXyy7T6o567WiVSn_Wn6QTC8Loyb-QMBqSFD0Q=s64",
      "userId": "02625801432686225050"
     },
     "user_tz": -480
    },
    "id": "guDlEayVgY5c"
   },
   "outputs": [],
   "source": [
    "class three_layer_net(nn.Module):\n",
    "\n",
    "    def __init__(self, input_size, hidden_size1, hidden_size2,  output_size):\n",
    "        super(three_layer_net , self).__init__()\n",
    "\n",
    "        self.layer1 = nn.Linear(input_size, hidden_size1, bias=False)\n",
    "        self.layer2 = nn.Linear(hidden_size1, hidden_size2, bias=False)\n",
    "        self.layer3 = nn.Linear(hidden_size2, output_size, bias=False)        \n",
    "        \n",
    "    def forward(self, x):\n",
    "        \n",
    "        y       = self.layer1(x)\n",
    "        y_hat   = F.relu(y)\n",
    "        z       = self.layer2(y_hat)\n",
    "        z_hat   = F.relu(z)\n",
    "        scores  = self.layer3(z_hat)\n",
    "        \n",
    "        return scores"
   ]
  },
  {
   "cell_type": "code",
   "execution_count": 10,
   "metadata": {
    "executionInfo": {
     "elapsed": 339,
     "status": "ok",
     "timestamp": 1635703288411,
     "user": {
      "displayName": "Benedict Low",
      "photoUrl": "https://lh3.googleusercontent.com/a-/AOh14Gi4LXyy7T6o567WiVSn_Wn6QTC8Loyb-QMBqSFD0Q=s64",
      "userId": "02625801432686225050"
     },
     "user_tz": -480
    },
    "id": "QMPIFkibgY3P"
   },
   "outputs": [],
   "source": [
    "def eval_on_test_set(bs):\n",
    "    running_error=0\n",
    "    num_batches=0\n",
    "    for i in range(0,10000,bs):\n",
    "        # extract the minibatch\n",
    "        minibatch_data =  test_data[i:i+bs]\n",
    "        minibatch_label= test_label[i:i+bs]\n",
    "        # send them to the gpu\n",
    "        minibatch_data=minibatch_data.to(device)\n",
    "        minibatch_label=minibatch_label.to(device)\n",
    "        # reshape the minibatch\n",
    "        inputs = minibatch_data.view(bs,3072)\n",
    "        # feed it to the network\n",
    "        scores=net( inputs ) \n",
    "        # compute the error made on this batch\n",
    "        error = get_error( scores , minibatch_label)\n",
    "        # add it to the running error\n",
    "        running_error += error.item()\n",
    "        num_batches+=1\n",
    "    # compute error rate on the full test set\n",
    "    total_error = running_error/num_batches\n",
    "    print( 'error rate on test set =', total_error*100 ,'percent')"
   ]
  },
  {
   "cell_type": "code",
   "execution_count": null,
   "metadata": {
    "id": "U9OdD5mLgYyO"
   },
   "outputs": [],
   "source": []
  },
  {
   "cell_type": "markdown",
   "metadata": {
    "id": "Y9OEtP0lak0O"
   },
   "source": [
    "# Task 1\n",
    "\n",
    "You are asked to build a three-layer feed-forward neural network to solve the monitoring problem of\n",
    "injection molding machine. Your implementation must be in Pytorch and executable in Google Colab\n",
    "environments. The proportion of training and testing samples is 70:30 where your model must deliver\n",
    "the smallest testing error possible. In that case, you need to select the number of nodes of hidden\n",
    "layers, the number of epochs, the learning rates, the mini-batch size, etc. that lead to the smallest\n",
    "testing error. In this assignment, you have to use the SGD optimizer as exemplified in the lab materials\n",
    "under the mini-batch update fashion. The evaluation metric here is the classification error. No feature\n",
    "selection is allowed here."
   ]
  },
  {
   "cell_type": "code",
   "execution_count": 54,
   "metadata": {
    "executionInfo": {
     "elapsed": 355,
     "status": "ok",
     "timestamp": 1635701894826,
     "user": {
      "displayName": "Benedict Low",
      "photoUrl": "https://lh3.googleusercontent.com/a-/AOh14Gi4LXyy7T6o567WiVSn_Wn6QTC8Loyb-QMBqSFD0Q=s64",
      "userId": "02625801432686225050"
     },
     "user_tz": -480
    },
    "id": "OuQiTTbUA-XP"
   },
   "outputs": [],
   "source": [
    "# Three layer feed-forward neural network\n",
    "# 70:30 Train-Test Split, minimize Test error\n",
    "\n",
    "# Grid serch for number of nodes in hidden layer, epochs, learning rates, mini-batch etc.\n",
    "# SGD optimizer\n",
    "# Mini-batch update\n",
    "# Loss function??"
   ]
  },
  {
   "cell_type": "code",
   "execution_count": 55,
   "metadata": {
    "executionInfo": {
     "elapsed": 322,
     "status": "ok",
     "timestamp": 1635701973696,
     "user": {
      "displayName": "Benedict Low",
      "photoUrl": "https://lh3.googleusercontent.com/a-/AOh14Gi4LXyy7T6o567WiVSn_Wn6QTC8Loyb-QMBqSFD0Q=s64",
      "userId": "02625801432686225050"
     },
     "user_tz": -480
    },
    "id": "7xW1Na1kE1Su"
   },
   "outputs": [],
   "source": []
  },
  {
   "cell_type": "code",
   "execution_count": 62,
   "metadata": {
    "executionInfo": {
     "elapsed": 315,
     "status": "ok",
     "timestamp": 1635702100352,
     "user": {
      "displayName": "Benedict Low",
      "photoUrl": "https://lh3.googleusercontent.com/a-/AOh14Gi4LXyy7T6o567WiVSn_Wn6QTC8Loyb-QMBqSFD0Q=s64",
      "userId": "02625801432686225050"
     },
     "user_tz": -480
    },
    "id": "HPzlrFjoDoN6"
   },
   "outputs": [],
   "source": [
    "task1_network = three_layer_net(49, 500, 500, 3)\n",
    "task1_network = task1_network.to(device)"
   ]
  },
  {
   "cell_type": "code",
   "execution_count": null,
   "metadata": {
    "id": "Em0p-r-LDoMC"
   },
   "outputs": [],
   "source": []
  },
  {
   "cell_type": "code",
   "execution_count": null,
   "metadata": {
    "id": "rjzCPibaDoKU"
   },
   "outputs": [],
   "source": []
  },
  {
   "cell_type": "code",
   "execution_count": null,
   "metadata": {
    "id": "qj0B62egDoH3"
   },
   "outputs": [],
   "source": []
  },
  {
   "cell_type": "code",
   "execution_count": null,
   "metadata": {
    "id": "FqDehrj6DoFu"
   },
   "outputs": [],
   "source": []
  },
  {
   "cell_type": "code",
   "execution_count": null,
   "metadata": {
    "id": "N8M-74gFDoB5"
   },
   "outputs": [],
   "source": []
  },
  {
   "cell_type": "code",
   "execution_count": null,
   "metadata": {
    "id": "rDn-d4wjDn_g"
   },
   "outputs": [],
   "source": []
  },
  {
   "cell_type": "code",
   "execution_count": null,
   "metadata": {
    "id": "p8nJBQHpDn9O"
   },
   "outputs": [],
   "source": []
  },
  {
   "cell_type": "code",
   "execution_count": null,
   "metadata": {
    "id": "_dDe8GUSDnlL"
   },
   "outputs": [],
   "source": []
  }
 ],
 "metadata": {
  "colab": {
   "authorship_tag": "ABX9TyM3P0n90Uk9ux9wDCveug1Q",
   "mount_file_id": "1uAZtLEYpaBOBW6nFHpC9DNPQ1YkztfQE",
   "name": "Untitled0.ipynb",
   "provenance": []
  },
  "kernelspec": {
   "display_name": "Python 3 (ipykernel)",
   "language": "python",
   "name": "python3"
  },
  "language_info": {
   "codemirror_mode": {
    "name": "ipython",
    "version": 3
   },
   "file_extension": ".py",
   "mimetype": "text/x-python",
   "name": "python",
   "nbconvert_exporter": "python",
   "pygments_lexer": "ipython3",
   "version": "3.9.7"
  }
 },
 "nbformat": 4,
 "nbformat_minor": 1
}
