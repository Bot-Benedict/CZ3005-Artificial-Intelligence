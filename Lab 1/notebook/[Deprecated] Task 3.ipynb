{
 "cells": [
  {
   "cell_type": "markdown",
   "id": "5bc23c07",
   "metadata": {},
   "source": [
    "# 1. Exploration"
   ]
  },
  {
   "cell_type": "code",
   "execution_count": 1,
   "id": "a3114043",
   "metadata": {},
   "outputs": [],
   "source": [
    "import json\n",
    "from queue import PriorityQueue\n",
    "import math\n",
    "\n",
    "f1 = open('../data/G.json')\n",
    "f2 = open('../data/Coord.json')\n",
    "f3 = open('../data/Dist.json')\n",
    "f4 = open('../data/Cost.json')\n",
    "MAX_BUDGET = 287932"
   ]
  },
  {
   "cell_type": "code",
   "execution_count": 2,
   "id": "0bf410cc",
   "metadata": {},
   "outputs": [],
   "source": [
    "from collections import defaultdict\n",
    "G = json.load(f1)\n",
    "# h(n)\n",
    "Coord = json.load(f2)\n",
    "# g(n)\n",
    "Dist = json.load(f3)\n",
    "Cost = defaultdict(int, json.load(f4))"
   ]
  },
  {
   "cell_type": "code",
   "execution_count": 3,
   "id": "06140c19",
   "metadata": {},
   "outputs": [],
   "source": [
    "def calc_hn(cur_node, target):\n",
    "    x1, y1 = Coord[cur_node]\n",
    "    x2, y2 = Coord[target]\n",
    "    return math.sqrt((x1-x2)**2 + (y1-y2)**2)"
   ]
  },
  {
   "cell_type": "code",
   "execution_count": 4,
   "id": "7c6bdc77",
   "metadata": {},
   "outputs": [],
   "source": [
    "def get_graph(fp='../data/G.json'):\n",
    "    f = open(fp)\n",
    "    return json.load(f)"
   ]
  },
  {
   "cell_type": "code",
   "execution_count": 5,
   "id": "98b83063",
   "metadata": {},
   "outputs": [],
   "source": [
    "def path_dist(path):\n",
    "    total_dist = 0\n",
    "    for i in range(1, len(path)):\n",
    "        total_dist += Dist[f'{path[i-1]},{path[i]}']\n",
    "    return total_dist"
   ]
  },
  {
   "cell_type": "code",
   "execution_count": 6,
   "id": "98f06b74",
   "metadata": {},
   "outputs": [],
   "source": [
    "def path_cost(path):\n",
    "    total_cost = 0\n",
    "    for i in range(1, len(path)):\n",
    "        total_cost += Cost[f'{path[i-1]},{path[i]}']\n",
    "    return total_cost"
   ]
  },
  {
   "cell_type": "code",
   "execution_count": 7,
   "id": "fbde3163",
   "metadata": {},
   "outputs": [],
   "source": [
    "def A_star(graph, source, target):\n",
    "    # tracks the A* score of visited nodes\n",
    "    visited = {}\n",
    "    # priority queue of score, path. Lower scores are higher on priority.\n",
    "    queue = PriorityQueue()\n",
    "    queue.put((0, [source], 0))\n",
    "    while not queue.empty():\n",
    "        # get the highest priority path\n",
    "        candidate = queue.get()\n",
    "        cur_node = candidate[1][-1]\n",
    "        \n",
    "        visited[cur_node] = candidate[0]\n",
    "        if cur_node == target:\n",
    "            return candidate\n",
    "        # add all the edges to the priority queue\n",
    "        for node in graph[cur_node]:\n",
    "            # if node has been visited, only skip if its recorded A* score is <= current calculated score\n",
    "            if node in visited and visited[node] <= candidate[0]+Dist[f'{cur_node},{node}']+calc_hn(node, target):\n",
    "                continue\n",
    "            # create a new path with the node from the edge\n",
    "            new_path = list(candidate[1]) + [node]\n",
    "            # add distance and new path to queue\n",
    "            queue.put((candidate[0] + Dist[f'{cur_node},{node}'] + calc_hn(node,target), \n",
    "                       new_path, \n",
    "                       candidate[2]+Cost[f'{cur_node},{node}']))\n",
    "    return None, None, None"
   ]
  },
  {
   "cell_type": "code",
   "execution_count": 8,
   "id": "4996a4aa",
   "metadata": {
    "scrolled": true
   },
   "outputs": [],
   "source": [
    "_, path, _ = A_star(G, '1', '50')"
   ]
  },
  {
   "cell_type": "code",
   "execution_count": 9,
   "id": "2bc57889",
   "metadata": {
    "scrolled": true
   },
   "outputs": [
    {
     "name": "stdout",
     "output_type": "stream",
     "text": [
      "Shortest path: 1->1363->1358->1355->1274->1143->1264->1239->1237->1236->1228->1227->941->936->935->923->930->919->927->925->924->906->901->755->677->663->660->659->366->365->364->349->347->345->342->320->343->297->294->295->196->202->181->182->184->215->216->217->96->98->221->232->222->237->236->4814->4808->4806->4804->4787->4788->4789->5149->5150->5180->5195->5196->5197->5199->5166->5165->5163->5162->5169->5170->5172->5174->5273->5266->5265->5264->5255->5267->5269->5257->5268->50.\n",
      "Shortest distance: 224198.03681434665.\n",
      "Total energy cost: 452855\n"
     ]
    }
   ],
   "source": [
    "print('Shortest path:', '->'.join(node for node in path) + '.')\n",
    "print(f'Shortest distance: {path_dist(path)}.')\n",
    "print(f'Total energy cost: {path_cost(path)}')"
   ]
  },
  {
   "cell_type": "code",
   "execution_count": 12,
   "id": "ac8c063e",
   "metadata": {},
   "outputs": [],
   "source": [
    "from tqdm import tqdm"
   ]
  },
  {
   "cell_type": "code",
   "execution_count": 10,
   "id": "6321d2df",
   "metadata": {},
   "outputs": [],
   "source": [
    "def A_star(graph, source, target):\n",
    "    # tracks the A* score of visited nodes\n",
    "    visited = {}\n",
    "    # priority queue of score, path. Lower scores are higher on priority.\n",
    "    queue = PriorityQueue()\n",
    "    queue.put((0, [source], 0))\n",
    "    while not queue.empty():\n",
    "        # get the highest priority path\n",
    "        candidate = queue.get()\n",
    "        cur_node = candidate[1][-1]\n",
    "        \n",
    "        visited[cur_node] = candidate[0]\n",
    "        if cur_node == target:\n",
    "            return candidate\n",
    "        # add all the edges to the priority queue\n",
    "        for node in graph[cur_node]:\n",
    "            # if node has been visited, only skip if its recorded A* score is <= current calculated score\n",
    "            if node in visited and visited[node] <= candidate[0]+Dist[f'{cur_node},{node}']+calc_hn(node, target):\n",
    "                continue\n",
    "            # create a new path with the node from the edge\n",
    "            new_path = list(candidate[1]) + [node]\n",
    "            # add distance and new path to queue\n",
    "            queue.put((candidate[0] + Dist[f'{cur_node},{node}'] + calc_hn(node,target), \n",
    "                       new_path, \n",
    "                       candidate[2]+Cost[f'{cur_node},{node}']))\n",
    "    return None, None, None\n",
    "\n",
    "def yens_ksp(graph, func, source, target, budget, K=5, A=None, terminate=False):\n",
    "    if not A:\n",
    "        A = [func(graph, source, target)[1]]\n",
    "    B = PriorityQueue() #Queue of candidate paths\n",
    "\n",
    "    for k in range(1, K):\n",
    "        for i in range(len(A[k-1]) - 1):\n",
    "            G = get_graph() #New graph for each iteration\n",
    "            spur_node = A[k-1][i]\n",
    "            root_path = A[k-1][:i]\n",
    "            for path in A:\n",
    "                if len(path) - 1 > i and root_path == path[:i]:\n",
    "                    # remove edge connecting root path to spur node from Graph, if edge isn't\n",
    "                    # already deleted\n",
    "                    if path[i+1] in G[path[i]]:\n",
    "                        G[path[i]].remove(path[i+1])\n",
    "            _, spur_path, _ = func(G, spur_node, target)\n",
    "            # if there exists a path from spur node to target\n",
    "            if spur_path:\n",
    "                found_in_B = False\n",
    "                for paths in B.queue:\n",
    "                    # if path exists then dont add total_path info in.\n",
    "                    if paths[1]==spur_path:\n",
    "                        found_in_B = True\n",
    "                        break\n",
    "                # path is new to B, add it in\n",
    "                if not found_in_B:\n",
    "                    total_path = root_path + spur_path\n",
    "                    B.put((path_dist(total_path), total_path, path_cost(total_path)))\n",
    "        # since B is already sorted, we first try to find whether shortest paths in B\n",
    "        # satisfy our budget constraint. If not, find the shortest path and add to A.\n",
    "        if terminate:\n",
    "            return A[0]\n",
    "        while B:\n",
    "            dist, path, cost = B.get()\n",
    "            # this is a k-th version of shortest path\n",
    "            if path not in A:\n",
    "                if cost <= budget:\n",
    "                    return path, dist, cost\n",
    "                A.append(path)\n",
    "    return A, None, None"
   ]
  },
  {
   "cell_type": "code",
   "execution_count": null,
   "id": "995477e0",
   "metadata": {
    "scrolled": true
   },
   "outputs": [],
   "source": [
    "new_path, new_dist, new_cost = yens_ksp(G, A_star, '1', '50', MAX_BUDGET, K=2)"
   ]
  },
  {
   "cell_type": "code",
   "execution_count": null,
   "id": "34293923",
   "metadata": {},
   "outputs": [],
   "source": []
  },
  {
   "cell_type": "code",
   "execution_count": null,
   "id": "1601749a",
   "metadata": {},
   "outputs": [],
   "source": [
    "print('Shortest path:', '->'.join(node for node in new_path) + '.')\n",
    "print(f'Shortest distance: {path_dist(path)}.')\n",
    "print(f'Total energy cost: {path_cost(path)}')"
   ]
  }
 ],
 "metadata": {
  "kernelspec": {
   "display_name": "Python 3 (ipykernel)",
   "language": "python",
   "name": "python3"
  },
  "language_info": {
   "codemirror_mode": {
    "name": "ipython",
    "version": 3
   },
   "file_extension": ".py",
   "mimetype": "text/x-python",
   "name": "python",
   "nbconvert_exporter": "python",
   "pygments_lexer": "ipython3",
   "version": "3.9.7"
  }
 },
 "nbformat": 4,
 "nbformat_minor": 5
}
