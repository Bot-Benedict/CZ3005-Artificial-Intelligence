{
 "cells": [
  {
   "cell_type": "markdown",
   "id": "5bc23c07",
   "metadata": {},
   "source": [
    "# 1. Exploration"
   ]
  },
  {
   "cell_type": "code",
   "execution_count": 1,
   "id": "a3114043",
   "metadata": {},
   "outputs": [],
   "source": [
    "import json\n",
    "from queue import PriorityQueue\n",
    "f1 = open('../data/G.json')\n",
    "f2 = open('../data/Coord.json')\n",
    "f3 = open('../data/Dist.json')\n",
    "f4 = open('../data/Cost.json')\n",
    "MAX_BUDGET = 287932"
   ]
  },
  {
   "cell_type": "code",
   "execution_count": 2,
   "id": "0bf410cc",
   "metadata": {},
   "outputs": [],
   "source": [
    "from collections import defaultdict\n",
    "G = json.load(f1)\n",
    "# h(n)\n",
    "Coord = json.load(f2)\n",
    "# g(n)\n",
    "Dist = json.load(f3)\n",
    "Cost = defaultdict(int, json.load(f4))"
   ]
  },
  {
   "cell_type": "code",
   "execution_count": 3,
   "id": "fbde3163",
   "metadata": {},
   "outputs": [],
   "source": [
    "def UCS(graph, source, target):\n",
    "    visited = set()\n",
    "    # priority queue of score, path. Lower scores are higher on priority.\n",
    "    queue = PriorityQueue()\n",
    "    queue.put((0, [source], 0))\n",
    "    while not queue.empty():\n",
    "        # get the highest priority path\n",
    "        candidate = queue.get()\n",
    "        cur_node = candidate[1][-1]\n",
    "        visited.add(cur_node)\n",
    "        if cur_node == target:\n",
    "            return candidate\n",
    "        # add all the edges to the priority queue\n",
    "        for node in graph[cur_node]:\n",
    "            if node in visited:\n",
    "                continue\n",
    "            # create a new path with the node from the edge\n",
    "            new_path = list(candidate[1]) + [node]\n",
    "            # add distance and new path to queue.\n",
    "            queue.put((candidate[0] + Dist[f'{cur_node},{node}'], \n",
    "                       new_path, \n",
    "                       candidate[2]+Cost[f'{cur_node},{node}']))\n",
    "    return None, None, None"
   ]
  },
  {
   "cell_type": "code",
   "execution_count": 4,
   "id": "4996a4aa",
   "metadata": {
    "scrolled": true
   },
   "outputs": [],
   "source": [
    "distance, path, cost = UCS(G, '1', '50')"
   ]
  },
  {
   "cell_type": "code",
   "execution_count": 5,
   "id": "37d6ba83",
   "metadata": {},
   "outputs": [
    {
     "name": "stdout",
     "output_type": "stream",
     "text": [
      "Shortest path: 1->1363->1358->1357->1356->1276->1273->1277->1269->1267->1268->1284->1283->1282->1255->1253->1260->1259->1249->1246->963->964->962->1002->952->1000->998->994->995->996->987->986->979->980->969->977->989->990->991->2369->2366->2340->2338->2339->2333->2334->2329->2029->2027->2019->2022->2000->1996->1997->1993->1992->1989->1984->2001->1900->1875->1874->1965->1963->1964->1923->1944->1945->1938->1937->1939->1935->1931->1934->1673->1675->1674->1837->1671->1828->1825->1817->1815->1634->1814->1813->1632->1631->1742->1741->1740->1739->1591->1689->1585->1584->1688->1579->1679->1677->104->5680->5418->5431->5425->5424->5422->5413->5412->5411->66->5392->5391->5388->5291->5278->5289->5290->5283->5284->5280->50.\n",
      "Shortest distance: 148648.63722140007.\n",
      "Total energy cost: 294853\n"
     ]
    }
   ],
   "source": [
    "print('Shortest path:', '->'.join(node for node in path) + '.')\n",
    "print(f'Shortest distance: {distance}.')\n",
    "print(f'Total energy cost: {cost}')"
   ]
  },
  {
   "cell_type": "code",
   "execution_count": 6,
   "id": "0c87eed7",
   "metadata": {},
   "outputs": [],
   "source": [
    "def get_graph(fp='../data/G.json'):\n",
    "    f = open(fp)\n",
    "    return json.load(f)"
   ]
  },
  {
   "cell_type": "code",
   "execution_count": 7,
   "id": "25d0ffac",
   "metadata": {},
   "outputs": [],
   "source": [
    "def path_dist(path):\n",
    "    total_dist = 0\n",
    "    for i in range(1, len(path)):\n",
    "        total_dist += Dist[f'{path[i-1]},{path[i]}']\n",
    "    return total_dist"
   ]
  },
  {
   "cell_type": "code",
   "execution_count": 8,
   "id": "320a0929",
   "metadata": {},
   "outputs": [],
   "source": [
    "def path_cost(path):\n",
    "    total_cost = 0\n",
    "    for i in range(1, len(path)):\n",
    "        total_cost += Cost[f'{path[i-1]},{path[i]}']\n",
    "    return total_cost"
   ]
  },
  {
   "cell_type": "code",
   "execution_count": 9,
   "id": "6321d2df",
   "metadata": {},
   "outputs": [],
   "source": [
    "def yens_ksp(graph, func, source, target, budget, K=5, A=None):\n",
    "    if not A:\n",
    "        A = [func(graph, source, target)[1]]\n",
    "    B = PriorityQueue() #Queue of candidate paths\n",
    "\n",
    "    for k in range(1, K):\n",
    "        for i in range(len(A[k-1]) - 1):\n",
    "            G = get_graph() #New graph for each iteration\n",
    "            spur_node = A[k-1][i]\n",
    "            root_path = A[k-1][:i]\n",
    "            for path in A:\n",
    "                if len(path) - 1 > i and root_path == path[:i]:\n",
    "                    # remove edge connecting root path to spur node from Graph, if edge isn't\n",
    "                    # already deleted\n",
    "                    if path[i+1] in G[path[i]]:\n",
    "                        G[path[i]].remove(path[i+1])\n",
    "            _, spur_path, _ = func(G, spur_node, target)\n",
    "            # if there exists a path from spur node to target\n",
    "            if spur_path:\n",
    "                found_in_B = False\n",
    "                for paths in B.queue:\n",
    "                    # if path exists then dont add total_path info in.\n",
    "                    if paths[1]==spur_path:\n",
    "                        found_in_B = True\n",
    "                        break\n",
    "                # path is new to B, add it in\n",
    "                if not found_in_B:\n",
    "                    total_path = root_path + spur_path\n",
    "                    B.put((path_dist(total_path), total_path, path_cost(total_path)))\n",
    "        # since B is already sorted, we first try to find whether shortest paths in B\n",
    "        # satisfy our budget constraint. If not, find the shortest path and add to A.\n",
    "        while B:\n",
    "            dist, path, cost = B.get()\n",
    "            # this is a k-th version of shortest path\n",
    "            if path not in A:\n",
    "                if cost <= budget:\n",
    "                    return path, dist, cost\n",
    "                A.append(path)\n",
    "    return A, None, None"
   ]
  },
  {
   "cell_type": "code",
   "execution_count": 10,
   "id": "29beec29",
   "metadata": {},
   "outputs": [
    {
     "name": "stdout",
     "output_type": "stream",
     "text": [
      "1\n"
     ]
    }
   ],
   "source": [
    "path2, _, _ = yens_ksp(G, UCS, '1', '50', MAX_BUDGET, K=1000)"
   ]
  },
  {
   "cell_type": "code",
   "execution_count": 12,
   "id": "62f05272",
   "metadata": {},
   "outputs": [
    {
     "name": "stdout",
     "output_type": "stream",
     "text": [
      "Shortest path2: 1->1363->1358->1357->1356->1276->1273->1277->1269->1267->1268->1284->1283->1282->1255->1253->1260->1259->1249->1246->963->964->962->1002->952->1000->998->994->995->996->987->986->979->980->969->977->989->990->991->2369->2366->2340->2338->2339->2333->2334->2329->2029->2027->2019->2022->2000->1996->1997->1993->1992->1989->1984->2001->1900->1875->1874->1965->1963->1964->1923->1944->1945->1938->1937->1939->1935->1931->1934->1673->1675->1674->1837->1671->1828->1825->1817->1815->1634->1814->1813->1632->1631->1742->1741->1740->1739->1591->1689->1585->1584->1688->1579->1679->1677->104->5680->5418->5431->5425->5429->5426->5428->5434->5435->5433->5436->5398->5404->5402->5396->5395->5292->5282->5283->5284->5280->50.\n",
      "Shortest distance: 150784.60722193593.\n",
      "Total energy cost: 287931.\n"
     ]
    }
   ],
   "source": [
    "print('Shortest path2:', '->'.join(node for node in path2) + '.')\n",
    "print(f'Shortest distance: {path_dist(path2)}.')\n",
    "print(f'Total energy cost: {path_cost(path2)}.')"
   ]
  },
  {
   "cell_type": "code",
   "execution_count": null,
   "id": "c9e1c9ab",
   "metadata": {},
   "outputs": [],
   "source": []
  }
 ],
 "metadata": {
  "kernelspec": {
   "display_name": "Python 3 (ipykernel)",
   "language": "python",
   "name": "python3"
  },
  "language_info": {
   "codemirror_mode": {
    "name": "ipython",
    "version": 3
   },
   "file_extension": ".py",
   "mimetype": "text/x-python",
   "name": "python",
   "nbconvert_exporter": "python",
   "pygments_lexer": "ipython3",
   "version": "3.9.7"
  }
 },
 "nbformat": 4,
 "nbformat_minor": 5
}
