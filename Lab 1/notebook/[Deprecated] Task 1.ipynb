{
 "cells": [
  {
   "cell_type": "code",
   "execution_count": 9,
   "id": "0d24c87c",
   "metadata": {},
   "outputs": [],
   "source": [
    "import json\n",
    "from collections import defaultdict, namedtuple\n",
    "from queue import PriorityQueue\n"
   ]
  },
  {
   "cell_type": "markdown",
   "id": "5bc23c07",
   "metadata": {},
   "source": [
    "# 1. Exploration"
   ]
  },
  {
   "cell_type": "code",
   "execution_count": 10,
   "id": "a3114043",
   "metadata": {},
   "outputs": [],
   "source": [
    "f1 = open('../data/G.json')\n",
    "f2 = open('../data/Coord.json')\n",
    "f3 = open('../data/Dist.json')\n",
    "f4 = open('../data/Cost.json')\n",
    "MAX_BUDGET = 287932"
   ]
  },
  {
   "cell_type": "code",
   "execution_count": 11,
   "id": "0bf410cc",
   "metadata": {},
   "outputs": [],
   "source": [
    "G = json.load(f1)\n",
    "# h(n)\n",
    "Coord = json.load(f2)\n",
    "# g(n)\n",
    "Dist = json.load(f3)\n",
    "Cost = defaultdict(int, json.load(f4))"
   ]
  },
  {
   "cell_type": "code",
   "execution_count": 12,
   "id": "996a8ac1",
   "metadata": {},
   "outputs": [],
   "source": [
    "def UCS(graph, source, target):\n",
    "    visited = set()\n",
    "    # priority queue of score, path. Lower scores are higher on priority.\n",
    "    queue = PriorityQueue()\n",
    "    queue.put((0, [source], 0))\n",
    "    while not queue.empty():\n",
    "        # get the highest priority path\n",
    "        candidate = queue.get()\n",
    "        cur_node = candidate[1][-1]\n",
    "        visited.add(cur_node)\n",
    "        if cur_node == target:\n",
    "            return candidate\n",
    "        # add all the edges to the priority queue\n",
    "        for node in graph[cur_node]:\n",
    "            if node in visited:\n",
    "                continue\n",
    "            # create a new path with the node from the edge\n",
    "            new_path = list(candidate[1]) + [node]\n",
    "            # add distance and new path to queue.\n",
    "            queue.put((candidate[0] + Dist[f'{cur_node},{node}'], \n",
    "                       new_path, \n",
    "                       candidate[2]+Cost[f'{cur_node},{node}']))\n",
    "    return None, None, None"
   ]
  },
  {
   "cell_type": "code",
   "execution_count": 6,
   "id": "983e9309",
   "metadata": {},
   "outputs": [
    {
     "data": {
      "text/plain": [
       "True"
      ]
     },
     "execution_count": 6,
     "metadata": {},
     "output_type": "execute_result"
    }
   ],
   "source": [
    "# Verify the distance\n",
    "total_Dist = 0\n",
    "for i in range(1, len(path)):\n",
    "    total_Dist += Dist[f'{path[i]},{path[i-1]}']\n",
    "total_Dist == distance"
   ]
  },
  {
   "cell_type": "code",
   "execution_count": 7,
   "id": "d24a9034",
   "metadata": {},
   "outputs": [
    {
     "name": "stdout",
     "output_type": "stream",
     "text": [
      "Shortest path: 1->1363->1358->1357->1356->1276->1273->1277->1269->1267->1268->1284->1283->1282->1255->1253->1260->1259->1249->1246->963->964->962->1002->952->1000->998->994->995->996->987->986->979->980->969->977->989->990->991->2369->2366->2340->2338->2339->2333->2334->2329->2029->2027->2019->2022->2000->1996->1997->1993->1992->1989->1984->2001->1900->1875->1874->1965->1963->1964->1923->1944->1945->1938->1937->1939->1935->1931->1934->1673->1675->1674->1837->1671->1828->1825->1817->1815->1634->1814->1813->1632->1631->1742->1741->1740->1739->1591->1689->1585->1584->1688->1579->1679->1677->104->5680->5418->5431->5425->5424->5422->5413->5412->5411->66->5392->5391->5388->5291->5278->5289->5290->5283->5284->5280->50.\n",
      "Shortest distance: 148648.63722140007.\n",
      "Total energy cost: N/A.\n"
     ]
    }
   ],
   "source": [
    "print('Shortest path:', '->'.join(node for node in path) + '.')\n",
    "print(f'Shortest distance: {distance}.')\n",
    "print(f'Total energy cost: N/A.')"
   ]
  }
 ],
 "metadata": {
  "kernelspec": {
   "display_name": "Python 3 (ipykernel)",
   "language": "python",
   "name": "python3"
  },
  "language_info": {
   "codemirror_mode": {
    "name": "ipython",
    "version": 3
   },
   "file_extension": ".py",
   "mimetype": "text/x-python",
   "name": "python",
   "nbconvert_exporter": "python",
   "pygments_lexer": "ipython3",
   "version": "3.9.7"
  }
 },
 "nbformat": 4,
 "nbformat_minor": 5
}
