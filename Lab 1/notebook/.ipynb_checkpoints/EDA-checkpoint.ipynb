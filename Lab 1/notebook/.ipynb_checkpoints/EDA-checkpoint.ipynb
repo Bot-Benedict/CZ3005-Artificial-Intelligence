{
 "cells": [
  {
   "cell_type": "markdown",
   "id": "5bc23c07",
   "metadata": {},
   "source": [
    "# 1. Exploration"
   ]
  },
  {
   "cell_type": "code",
   "execution_count": 4,
   "id": "a3114043",
   "metadata": {},
   "outputs": [],
   "source": [
    "import json\n",
    "f1 = open('../data/G.json')\n",
    "f2 = open('../data/Coord.json')\n",
    "f3 = open('../data/Dist.json')\n",
    "f4 = open('../data/Cost.json')"
   ]
  },
  {
   "cell_type": "code",
   "execution_count": 5,
   "id": "0bf410cc",
   "metadata": {},
   "outputs": [],
   "source": [
    "from collections import defaultdict\n",
    "G = json.load(f1)\n",
    "# h(n)\n",
    "Coord = json.load(f2)\n",
    "# g(n)\n",
    "Dist = json.load(f3)\n",
    "Cost = defaultdict(int, json.load(f4))"
   ]
  },
  {
   "cell_type": "markdown",
   "id": "c7e971f3",
   "metadata": {},
   "source": [
    "# Chapter One"
   ]
  },
  {
   "cell_type": "code",
   "execution_count": 6,
   "id": "27a78ff5",
   "metadata": {},
   "outputs": [
    {
     "data": {
      "text/plain": [
       "True"
      ]
     },
     "execution_count": 6,
     "metadata": {},
     "output_type": "execute_result"
    }
   ],
   "source": [
    "def isCyclicUtil(graph, v, visited, recStack):\n",
    "    # Mark current node as visited and\n",
    "    # adds to recursion stack\n",
    "    visited[int(v)] = True\n",
    "    recStack[int(v)] = True\n",
    "\n",
    "    # Recur for all neighbours\n",
    "    # if any neighbour is visited and in\n",
    "    # recStack then graph is cyclic\n",
    "    for neighbour in graph[str(v)]:\n",
    "        if visited[int(neighbour)] == False:\n",
    "            if isCyclicUtil(graph, neighbour, visited, recStack) == True:\n",
    "                return True\n",
    "        elif recStack[int(neighbour)] == True:\n",
    "            return True\n",
    "\n",
    "    # The node needs to be poped from\n",
    "    # recursion stack before function ends\n",
    "    recStack[v] = False\n",
    "    return False\n",
    "num_vertex = len(G)\n",
    "\n",
    "def isCyclic(graph, num_vertex):\n",
    "    visited = [False] * (num_vertex + 1)\n",
    "    recStack = [False] * (num_vertex + 1)\n",
    "    for node in range(1, num_vertex):\n",
    "        if visited[node] == False:\n",
    "            if isCyclicUtil(graph, node, visited, recStack) == True:\n",
    "                return True\n",
    "    return False    \n",
    "\n",
    "# check for cycles\n",
    "isCyclic(G,num_vertex)"
   ]
  },
  {
   "cell_type": "markdown",
   "id": "3a103d51",
   "metadata": {},
   "source": [
    "# Chapter Two"
   ]
  },
  {
   "cell_type": "code",
   "execution_count": 7,
   "id": "1b0d130e",
   "metadata": {},
   "outputs": [
    {
     "data": {
      "text/plain": [
       "True"
      ]
     },
     "execution_count": 7,
     "metadata": {},
     "output_type": "execute_result"
    }
   ],
   "source": [
    "# Each node is uniquely labelled.\n",
    "len(G) == 264346"
   ]
  },
  {
   "cell_type": "markdown",
   "id": "2401cb88",
   "metadata": {},
   "source": [
    "# Chapter Three"
   ]
  },
  {
   "cell_type": "code",
   "execution_count": 8,
   "id": "84ce5f74",
   "metadata": {},
   "outputs": [],
   "source": [
    "# Any cost for revisiting a self-loop vertex\n",
    "for k in Cost.keys():\n",
    "    try:\n",
    "        k1, k2 = str(k).split(',')\n",
    "        if k1 == k2: print(k1)\n",
    "    except:\n",
    "        print(k)"
   ]
  },
  {
   "cell_type": "code",
   "execution_count": null,
   "id": "6739fc1d",
   "metadata": {},
   "outputs": [],
   "source": []
  }
 ],
 "metadata": {
  "kernelspec": {
   "display_name": "Python 3 (ipykernel)",
   "language": "python",
   "name": "python3"
  },
  "language_info": {
   "codemirror_mode": {
    "name": "ipython",
    "version": 3
   },
   "file_extension": ".py",
   "mimetype": "text/x-python",
   "name": "python",
   "nbconvert_exporter": "python",
   "pygments_lexer": "ipython3",
   "version": "3.9.7"
  }
 },
 "nbformat": 4,
 "nbformat_minor": 5
}
