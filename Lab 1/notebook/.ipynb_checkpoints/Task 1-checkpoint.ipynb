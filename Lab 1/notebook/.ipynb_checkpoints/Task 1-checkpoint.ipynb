{
 "cells": [
  {
   "cell_type": "code",
   "execution_count": 1,
   "id": "0d24c87c",
   "metadata": {},
   "outputs": [],
   "source": [
    "import json\n",
    "from collections import defaultdict, namedtuple\n",
    "from queue import PriorityQueue\n"
   ]
  },
  {
   "cell_type": "markdown",
   "id": "5bc23c07",
   "metadata": {},
   "source": [
    "# 1. Exploration"
   ]
  },
  {
   "cell_type": "code",
   "execution_count": 2,
   "id": "a3114043",
   "metadata": {},
   "outputs": [],
   "source": [
    "f1 = open('../data/G.json')\n",
    "f2 = open('../data/Coord.json')\n",
    "f3 = open('../data/Dist.json')\n",
    "f4 = open('../data/Cost.json')\n",
    "MAX_BUDGET = 287932"
   ]
  },
  {
   "cell_type": "code",
   "execution_count": 3,
   "id": "0bf410cc",
   "metadata": {},
   "outputs": [],
   "source": [
    "G = json.load(f1)\n",
    "# h(n)\n",
    "Coord = json.load(f2)\n",
    "# g(n)\n",
    "Dist = json.load(f3)\n",
    "Cost = defaultdict(int, json.load(f4))"
   ]
  },
  {
   "cell_type": "code",
   "execution_count": 9,
   "id": "996a8ac1",
   "metadata": {},
   "outputs": [],
   "source": [
    "def UCS(graph, source, target):\n",
    "    visited = set()\n",
    "    # priority queue of score, path. Lower scores are higher on priority.\n",
    "    queue = PriorityQueue()\n",
    "    queue.put((0, [source]))\n",
    "    while not queue.empty():\n",
    "        # get the highest priority path\n",
    "        candidate = queue.get()\n",
    "        cur_node = candidate[1][-1]\n",
    "        visited.add(cur_node)\n",
    "        if cur_node == target:\n",
    "            return candidate\n",
    "        \n",
    "        # add all the edges to the priority queue\n",
    "        for node in graph[cur_node]:\n",
    "            if node in visited:\n",
    "                continue\n",
    "            # create a new path with the node from the edge\n",
    "            new_path = list(candidate[1]) + [node]\n",
    "            \n",
    "            # add distance and new path to queue.\n",
    "            queue.put((candidate[0] + Dist[f'{cur_node},{node}'], new_path))\n",
    "    return None, None"
   ]
  },
  {
   "cell_type": "code",
   "execution_count": 10,
   "id": "24df091a",
   "metadata": {
    "scrolled": true
   },
   "outputs": [],
   "source": [
    "distance, path  = UCS(G, '1', '50')"
   ]
  },
  {
   "cell_type": "code",
   "execution_count": 7,
   "id": "983e9309",
   "metadata": {},
   "outputs": [
    {
     "ename": "TypeError",
     "evalue": "object of type 'float' has no len()",
     "output_type": "error",
     "traceback": [
      "\u001b[1;31m---------------------------------------------------------------------------\u001b[0m",
      "\u001b[1;31mTypeError\u001b[0m                                 Traceback (most recent call last)",
      "\u001b[1;32m~\\AppData\\Local\\Temp/ipykernel_4284/4189909871.py\u001b[0m in \u001b[0;36m<module>\u001b[1;34m\u001b[0m\n\u001b[0;32m      1\u001b[0m \u001b[1;31m# Verify the distance\u001b[0m\u001b[1;33m\u001b[0m\u001b[1;33m\u001b[0m\u001b[0m\n\u001b[0;32m      2\u001b[0m \u001b[0mtotal_Dist\u001b[0m \u001b[1;33m=\u001b[0m \u001b[1;36m0\u001b[0m\u001b[1;33m\u001b[0m\u001b[1;33m\u001b[0m\u001b[0m\n\u001b[1;32m----> 3\u001b[1;33m \u001b[1;32mfor\u001b[0m \u001b[0mi\u001b[0m \u001b[1;32min\u001b[0m \u001b[0mrange\u001b[0m\u001b[1;33m(\u001b[0m\u001b[1;36m1\u001b[0m\u001b[1;33m,\u001b[0m \u001b[0mlen\u001b[0m\u001b[1;33m(\u001b[0m\u001b[0mpath\u001b[0m\u001b[1;33m)\u001b[0m\u001b[1;33m)\u001b[0m\u001b[1;33m:\u001b[0m\u001b[1;33m\u001b[0m\u001b[1;33m\u001b[0m\u001b[0m\n\u001b[0m\u001b[0;32m      4\u001b[0m     \u001b[0mtotal_Dist\u001b[0m \u001b[1;33m+=\u001b[0m \u001b[0mDist\u001b[0m\u001b[1;33m[\u001b[0m\u001b[1;34mf'{path[i]},{path[i-1]}'\u001b[0m\u001b[1;33m]\u001b[0m\u001b[1;33m\u001b[0m\u001b[1;33m\u001b[0m\u001b[0m\n\u001b[0;32m      5\u001b[0m \u001b[0mtotal_Dist\u001b[0m \u001b[1;33m==\u001b[0m \u001b[0mdistance\u001b[0m\u001b[1;33m\u001b[0m\u001b[1;33m\u001b[0m\u001b[0m\n",
      "\u001b[1;31mTypeError\u001b[0m: object of type 'float' has no len()"
     ]
    }
   ],
   "source": [
    "# Verify the distance\n",
    "total_Dist = 0\n",
    "for i in range(1, len(path)):\n",
    "    total_Dist += Dist[f'{path[i]},{path[i-1]}']\n",
    "total_Dist == distance"
   ]
  },
  {
   "cell_type": "code",
   "execution_count": 8,
   "id": "d24a9034",
   "metadata": {},
   "outputs": [
    {
     "name": "stdout",
     "output_type": "stream",
     "text": [
      "Shortest path: 1->1363->1358->1357->1356->1276->1273->1277->1269->1267->1268->1284->1283->1282->1255->1253->1260->1259->1249->1246->963->964->962->1002->952->1000->998->994->995->996->987->988->979->980->969->977->989->990->991->2369->2366->2340->2338->2339->2333->2334->2329->2029->2027->2019->2022->2000->1996->1997->1993->1992->1989->1984->2001->1900->1875->1874->1965->1971->1970->1948->1937->1939->1935->1931->1934->1673->1675->1674->1837->1671->1828->1825->1817->1815->1634->1814->1813->1632->1631->1742->1741->1740->1739->1591->1689->1585->1584->1688->1579->1679->1677->104->5680->5418->5431->5425->5424->5422->5413->5412->5411->66->5392->5387->5388->5375->5374->5373->5279->5278->5289->5290->5283->5284->5280->50.\n",
      "Shortest distance: 152068.87442666534.\n",
      "Total energy cost: N/A.\n"
     ]
    }
   ],
   "source": [
    "print('Shortest path:', '->'.join(node for node in path) + '.')\n",
    "print(f'Shortest distance: {distance}.')\n",
    "print(f'Total energy cost: N/A.')"
   ]
  },
  {
   "cell_type": "code",
   "execution_count": 13,
   "id": "7411a091",
   "metadata": {},
   "outputs": [
    {
     "name": "stdout",
     "output_type": "stream",
     "text": [
      "116\n",
      "117\n",
      "118\n",
      "117\n",
      "119\n",
      "119\n",
      "120\n",
      "119\n"
     ]
    }
   ],
   "source": [
    "a = [120, 236, 353, 471, 588, 707, 826, 946, 1065]\n",
    "for i in range(1, len(a)):\n",
    "    print(a[i]-a[i-1])"
   ]
  },
  {
   "cell_type": "code",
   "execution_count": null,
   "id": "bb71c54e",
   "metadata": {},
   "outputs": [],
   "source": []
  },
  {
   "cell_type": "code",
   "execution_count": null,
   "id": "968ccdfd",
   "metadata": {},
   "outputs": [],
   "source": []
  }
 ],
 "metadata": {
  "kernelspec": {
   "display_name": "Python 3 (ipykernel)",
   "language": "python",
   "name": "python3"
  },
  "language_info": {
   "codemirror_mode": {
    "name": "ipython",
    "version": 3
   },
   "file_extension": ".py",
   "mimetype": "text/x-python",
   "name": "python",
   "nbconvert_exporter": "python",
   "pygments_lexer": "ipython3",
   "version": "3.9.7"
  }
 },
 "nbformat": 4,
 "nbformat_minor": 5
}
