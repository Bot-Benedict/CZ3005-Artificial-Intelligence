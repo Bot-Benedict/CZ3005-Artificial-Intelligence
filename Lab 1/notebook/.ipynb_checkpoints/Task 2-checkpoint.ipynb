{
 "cells": [
  {
   "cell_type": "markdown",
   "id": "5bc23c07",
   "metadata": {},
   "source": [
    "# 1. Exploration"
   ]
  },
  {
   "cell_type": "code",
   "execution_count": 1,
   "id": "a3114043",
   "metadata": {},
   "outputs": [],
   "source": [
    "import json\n",
    "from queue import PriorityQueue\n",
    "\n",
    "f1 = open('../data/G.json')\n",
    "f2 = open('../data/Coord.json')\n",
    "f3 = open('../data/Dist.json')\n",
    "f4 = open('../data/Cost.json')\n",
    "MAX_BUDGET = 287932"
   ]
  },
  {
   "cell_type": "code",
   "execution_count": 2,
   "id": "0bf410cc",
   "metadata": {},
   "outputs": [],
   "source": [
    "from collections import defaultdict\n",
    "G = json.load(f1)\n",
    "# h(n)\n",
    "Coord = json.load(f2)\n",
    "# g(n)\n",
    "Dist = json.load(f3)\n",
    "Cost = defaultdict(int, json.load(f4))"
   ]
  },
  {
   "cell_type": "code",
   "execution_count": 3,
   "id": "fbde3163",
   "metadata": {},
   "outputs": [],
   "source": [
    "def UCS(graph, source, target):\n",
    "    visited = set()\n",
    "    # priority queue of score, path. Lower scores are higher on priority.\n",
    "    queue = PriorityQueue()\n",
    "    queue.put((0, [source], 0))\n",
    "    while not queue.empty():\n",
    "        # get the highest priority path\n",
    "        candidate = queue.get()\n",
    "        cur_node = candidate[1][-1]\n",
    "        # add all the edges to the priority queue\n",
    "        for node in graph[cur_node]:\n",
    "            if node in visited:\n",
    "                continue\n",
    "            # if its the target, return the path as well as Dist\n",
    "            # both should include the latest node and edge Dist respectively.\n",
    "            if node == target:\n",
    "                return candidate[1]+[target], candidate[0]+Dist[f'{cur_node},{node}'], candidate[2]+Cost[f'{cur_node},{node}']\n",
    "            # create a new path with the node from the edge\n",
    "            new_path = list(candidate[1]) + [node]\n",
    "            visited.add(node)\n",
    "            # add distance and new path to queue.\n",
    "            queue.put((candidate[0] + Dist[f'{cur_node},{node}'], new_path, candidate[2]+Cost[f'{cur_node},{node}']))\n",
    "    return None, None, None"
   ]
  },
  {
   "cell_type": "code",
   "execution_count": 4,
   "id": "4996a4aa",
   "metadata": {
    "scrolled": true
   },
   "outputs": [],
   "source": [
    "path, distance, cost = UCS(G, '1', '50')"
   ]
  },
  {
   "cell_type": "code",
   "execution_count": 5,
   "id": "37d6ba83",
   "metadata": {},
   "outputs": [
    {
     "name": "stdout",
     "output_type": "stream",
     "text": [
      "Shortest path: 1->1363->1358->1357->1356->1276->1273->1277->1269->1267->1268->1284->1283->1282->1255->1253->1260->1259->1249->1246->963->964->962->1002->952->1000->998->994->995->996->987->988->979->980->969->977->989->990->991->2369->2366->2340->2338->2339->2333->2334->2329->2029->2027->2019->2022->2000->1996->1997->1993->1992->1989->1984->2001->1900->1875->1874->1965->1971->1970->1948->1937->1939->1935->1931->1934->1673->1675->1674->1837->1671->1828->1825->1817->1815->1634->1814->1813->1632->1631->1742->1741->1740->1739->1591->1689->1585->1584->1688->1579->1679->1677->104->5680->5418->5431->5425->5424->5422->5413->5412->5411->66->5392->5387->5388->5375->5374->5373->5279->5278->5289->5290->5283->5284->5280->50.\n",
      "Shortest distance: 152068.87442666534.\n",
      "Total energy cost: 295018\n"
     ]
    }
   ],
   "source": [
    "print('Shortest path:', '->'.join(node for node in path) + '.')\n",
    "print(f'Shortest distance: {distance}.')\n",
    "print(f'Total energy cost: {cost}')"
   ]
  },
  {
   "cell_type": "code",
   "execution_count": 7,
   "id": "6321d2df",
   "metadata": {},
   "outputs": [
    {
     "ename": "IndentationError",
     "evalue": "expected an indented block (Temp/ipykernel_8168/4036600535.py, line 11)",
     "output_type": "error",
     "traceback": [
      "\u001b[1;36m  File \u001b[1;32m\"C:\\Users\\lowbe\\AppData\\Local\\Temp/ipykernel_8168/4036600535.py\"\u001b[1;36m, line \u001b[1;32m11\u001b[0m\n\u001b[1;33m    \u001b[0m\n\u001b[1;37m    ^\u001b[0m\n\u001b[1;31mIndentationError\u001b[0m\u001b[1;31m:\u001b[0m expected an indented block\n"
     ]
    }
   ],
   "source": [
    "def yens_ksp(graph, source, target, budget, K=10000):\n",
    "    A = [UCS(graph, source, target)[0]]\n",
    "    B = PriorityQueue()\n",
    "    \n",
    "    for k in range(1, K):\n",
    "        for i in range(len(A[k-1]) - 1):\n",
    "            spur_node = A[k-1][i]\n",
    "            root_path = A[k-1][:i]\n",
    "            for path in A:\n",
    "                if root_path == path[:i]:\n",
    "                    "
   ]
  },
  {
   "cell_type": "code",
   "execution_count": 6,
   "id": "9c194abc",
   "metadata": {},
   "outputs": [],
   "source": [
    "G['264347'] = []"
   ]
  },
  {
   "cell_type": "code",
   "execution_count": 7,
   "id": "9bb832b0",
   "metadata": {
    "scrolled": true
   },
   "outputs": [
    {
     "ename": "TypeError",
     "evalue": "cannot unpack non-iterable int object",
     "output_type": "error",
     "traceback": [
      "\u001b[1;31m---------------------------------------------------------------------------\u001b[0m",
      "\u001b[1;31mTypeError\u001b[0m                                 Traceback (most recent call last)",
      "\u001b[1;32m~\\AppData\\Local\\Temp/ipykernel_12068/681129143.py\u001b[0m in \u001b[0;36m<module>\u001b[1;34m\u001b[0m\n\u001b[1;32m----> 1\u001b[1;33m \u001b[0mpath\u001b[0m\u001b[1;33m,\u001b[0m \u001b[0mdistance\u001b[0m\u001b[1;33m,\u001b[0m \u001b[0mcost\u001b[0m \u001b[1;33m=\u001b[0m \u001b[0mUCS\u001b[0m\u001b[1;33m(\u001b[0m\u001b[0mG\u001b[0m\u001b[1;33m,\u001b[0m \u001b[1;34m'1'\u001b[0m\u001b[1;33m,\u001b[0m \u001b[1;34m'264347'\u001b[0m\u001b[1;33m)\u001b[0m\u001b[1;33m\u001b[0m\u001b[1;33m\u001b[0m\u001b[0m\n\u001b[0m\u001b[0;32m      2\u001b[0m \u001b[0mpath\u001b[0m\u001b[1;33m,\u001b[0m \u001b[0mdistance\u001b[0m\u001b[1;33m,\u001b[0m \u001b[0mcost\u001b[0m\u001b[1;33m\u001b[0m\u001b[1;33m\u001b[0m\u001b[0m\n",
      "\u001b[1;31mTypeError\u001b[0m: cannot unpack non-iterable int object"
     ]
    }
   ],
   "source": [
    "path, distance, cost = UCS(G, '1', '264347')\n",
    "path, distance, cost"
   ]
  },
  {
   "cell_type": "code",
   "execution_count": 8,
   "id": "9d7dcb6c",
   "metadata": {},
   "outputs": [
    {
     "data": {
      "text/plain": [
       "1"
      ]
     },
     "execution_count": 8,
     "metadata": {},
     "output_type": "execute_result"
    }
   ],
   "source": [
    "UCS(G, '1', '264347')"
   ]
  },
  {
   "cell_type": "code",
   "execution_count": null,
   "id": "c3608012",
   "metadata": {},
   "outputs": [],
   "source": []
  }
 ],
 "metadata": {
  "kernelspec": {
   "display_name": "Python 3 (ipykernel)",
   "language": "python",
   "name": "python3"
  },
  "language_info": {
   "codemirror_mode": {
    "name": "ipython",
    "version": 3
   },
   "file_extension": ".py",
   "mimetype": "text/x-python",
   "name": "python",
   "nbconvert_exporter": "python",
   "pygments_lexer": "ipython3",
   "version": "3.9.7"
  }
 },
 "nbformat": 4,
 "nbformat_minor": 5
}
